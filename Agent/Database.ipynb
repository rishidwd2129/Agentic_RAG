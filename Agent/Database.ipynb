{
 "cells": [
  {
   "cell_type": "code",
   "execution_count": 2,
   "id": "initial_id",
   "metadata": {
    "ExecuteTime": {
     "end_time": "2025-07-15T07:10:43.116503Z",
     "start_time": "2025-07-15T07:10:43.069088Z"
    },
    "collapsed": true
   },
   "outputs": [
    {
     "name": "stdout",
     "output_type": "stream",
     "text": [
      "Supabase client initialized.\n"
     ]
    }
   ],
   "source": [
    "from dbHandler import SupabaseDBHandler\n",
    "supabasedbhandler : SupabaseDBHandler = SupabaseDBHandler()"
   ]
  },
  {
   "cell_type": "code",
   "execution_count": 3,
   "id": "8af81e42899f4920",
   "metadata": {
    "ExecuteTime": {
     "end_time": "2025-07-15T07:11:03.345156Z",
     "start_time": "2025-07-15T07:11:03.341867Z"
    }
   },
   "outputs": [],
   "source": [
    "supabase = supabasedbhandler.get_client()"
   ]
  },
  {
   "cell_type": "code",
   "execution_count": 1,
   "id": "f2a3379d5093dae5",
   "metadata": {},
   "outputs": [
    {
     "name": "stderr",
     "output_type": "stream",
     "text": [
      "/opt/anaconda3/envs/PyLM/lib/python3.12/site-packages/tqdm/auto.py:21: TqdmWarning: IProgress not found. Please update jupyter and ipywidgets. See https://ipywidgets.readthedocs.io/en/stable/user_install.html\n",
      "  from .autonotebook import tqdm as notebook_tqdm\n"
     ]
    }
   ],
   "source": [
    "import torch\n",
    "from transformers import pipeline\n",
    "class LLM_Pipeline:\n",
    "    def __init__(self, model_id: str = \"Qwen/Qwen2-1.5B-Instruct\"):\n",
    "        \"\"\"\n",
    "        The CONSTRUCTOR: This is called ONLY ONCE when you create the object.\n",
    "        \"\"\"\n",
    "        print(\"Initializing pipeline and loading the model...\")\n",
    "        # The model is loaded here, just one time.\n",
    "        self.pipe = pipeline(\n",
    "            \"text-generation\",\n",
    "            model=model_id,\n",
    "            # ... other parameters\n",
    "            \n",
    "        )\n",
    "        print(\"Model loaded successfully!\")\n",
    "        \n",
    "    \n",
    "    def call_llm(self, prompt:str, max_output:int = 250):\n",
    "    # 2. Define your prompt using a chat format\n",
    "        messages = [\n",
    "            {\"role\": \"user\", \"content\": prompt},\n",
    "        ]\n",
    "\n",
    "        # 3. Generate the response\n",
    "        # The pipeline automatically applies the correct chat template for the model.\n",
    "        outputs = self.pipe(\n",
    "            messages,\n",
    "            max_new_tokens=max_output,  # The maximum number of tokens to generate\n",
    "            do_sample=True,\n",
    "            temperature=0.7,\n",
    "            top_k=50,\n",
    "            top_p=0.95,\n",
    "        )\n",
    "        return outputs"
   ]
  },
  {
   "cell_type": "code",
   "execution_count": 3,
   "id": "d1844ec0",
   "metadata": {},
   "outputs": [
    {
     "name": "stdout",
     "output_type": "stream",
     "text": [
      "Initializing pipeline and loading the model...\n"
     ]
    },
    {
     "name": "stderr",
     "output_type": "stream",
     "text": [
      "Special tokens have been added in the vocabulary, make sure the associated word embeddings are fine-tuned or trained.\n"
     ]
    },
    {
     "name": "stdout",
     "output_type": "stream",
     "text": [
      "Model loaded successfully!\n",
      "[{'generated_text': [{'role': 'user', 'content': 'What is the capital of France?'}, {'role': 'assistant', 'content': 'The capital of France is Paris.'}]}]\n"
     ]
    }
   ],
   "source": [
    "llm = LLM_Pipeline(model_id=\"Qwen/Qwen2-1.5B-Instruct\")\n",
    "\n",
    "prompt = \"What is the capital of France?\"\n",
    "response = llm.call_llm(prompt)\n",
    "print(response) "
   ]
  },
  {
   "cell_type": "code",
   "execution_count": 9,
   "id": "27894a00",
   "metadata": {},
   "outputs": [
    {
     "data": {
      "text/plain": [
       "'The capital of France is Paris.'"
      ]
     },
     "execution_count": 9,
     "metadata": {},
     "output_type": "execute_result"
    }
   ],
   "source": [
    "response[0]['generated_text'][1]['content']"
   ]
  },
  {
   "cell_type": "code",
   "execution_count": null,
   "id": "539743fd",
   "metadata": {},
   "outputs": [],
   "source": []
  }
 ],
 "metadata": {
  "kernelspec": {
   "display_name": "PyLM",
   "language": "python",
   "name": "python3"
  },
  "language_info": {
   "codemirror_mode": {
    "name": "ipython",
    "version": 3
   },
   "file_extension": ".py",
   "mimetype": "text/x-python",
   "name": "python",
   "nbconvert_exporter": "python",
   "pygments_lexer": "ipython3",
   "version": "3.12.2"
  }
 },
 "nbformat": 4,
 "nbformat_minor": 5
}
