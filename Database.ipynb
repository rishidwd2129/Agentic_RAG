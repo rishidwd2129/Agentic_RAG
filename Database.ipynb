{
 "cells": [
  {
   "cell_type": "code",
   "id": "initial_id",
   "metadata": {
    "collapsed": true,
    "ExecuteTime": {
     "end_time": "2025-07-15T07:10:43.116503Z",
     "start_time": "2025-07-15T07:10:43.069088Z"
    }
   },
   "source": [
    "from dbHandler import SupabaseDBHandler\n",
    "supabasedbhandler : SupabaseDBHandler = SupabaseDBHandler()"
   ],
   "outputs": [
    {
     "name": "stdout",
     "output_type": "stream",
     "text": [
      "Supabase client initialized.\n"
     ]
    }
   ],
   "execution_count": 2
  },
  {
   "metadata": {
    "ExecuteTime": {
     "end_time": "2025-07-15T07:11:03.345156Z",
     "start_time": "2025-07-15T07:11:03.341867Z"
    }
   },
   "cell_type": "code",
   "source": "supabase = supabasedbhandler.get_client()",
   "id": "8af81e42899f4920",
   "outputs": [],
   "execution_count": 3
  },
  {
   "metadata": {},
   "cell_type": "code",
   "outputs": [],
   "execution_count": null,
   "source": "",
   "id": "f2a3379d5093dae5"
  }
 ],
 "metadata": {
  "kernelspec": {
   "display_name": "Python 3",
   "language": "python",
   "name": "python3"
  },
  "language_info": {
   "codemirror_mode": {
    "name": "ipython",
    "version": 2
   },
   "file_extension": ".py",
   "mimetype": "text/x-python",
   "name": "python",
   "nbconvert_exporter": "python",
   "pygments_lexer": "ipython2",
   "version": "2.7.6"
  }
 },
 "nbformat": 4,
 "nbformat_minor": 5
}
